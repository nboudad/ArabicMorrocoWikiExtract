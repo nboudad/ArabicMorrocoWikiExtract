{
  "nbformat": 4,
  "nbformat_minor": 0,
  "metadata": {
    "colab": {
      "name": "WIKI extract",
      "provenance": [],
      "collapsed_sections": [],
      "authorship_tag": "ABX9TyPCHNmQyulNWJu+pEq/y4l6",
      "include_colab_link": true
    },
    "kernelspec": {
      "name": "python3",
      "display_name": "Python 3"
    },
    "language_info": {
      "name": "python"
    }
  },
  "cells": [
    {
      "cell_type": "markdown",
      "metadata": {
        "id": "view-in-github",
        "colab_type": "text"
      },
      "source": [
        "<a href=\"https://colab.research.google.com/github/nboudad/ArabicMorrocoWikiExtract/blob/main/WIKI_extract.ipynb\" target=\"_parent\"><img src=\"https://colab.research.google.com/assets/colab-badge.svg\" alt=\"Open In Colab\"/></a>"
      ]
    },
    {
      "cell_type": "code",
      "source": [
        "!wget -c https://dumps.wikimedia.org/arywiki/latest/arywiki-latest-pages-articles.xml.bz2"
      ],
      "metadata": {
        "colab": {
          "base_uri": "https://localhost:8080/"
        },
        "id": "GU_rWPys1Q4f",
        "outputId": "d9cf4629-9006-457a-d8a7-1331cf4e17a2"
      },
      "execution_count": 1,
      "outputs": [
        {
          "output_type": "stream",
          "name": "stdout",
          "text": [
            "--2022-05-13 08:42:35--  https://dumps.wikimedia.org/arywiki/latest/arywiki-latest-pages-articles.xml.bz2\n",
            "Resolving dumps.wikimedia.org (dumps.wikimedia.org)... 208.80.154.7, 2620:0:861:1:208:80:154:7\n",
            "Connecting to dumps.wikimedia.org (dumps.wikimedia.org)|208.80.154.7|:443... connected.\n",
            "HTTP request sent, awaiting response... 200 OK\n",
            "Length: 5896037 (5.6M) [application/octet-stream]\n",
            "Saving to: ‘arywiki-latest-pages-articles.xml.bz2’\n",
            "\n",
            "arywiki-latest-page 100%[===================>]   5.62M  5.58MB/s    in 1.0s    \n",
            "\n",
            "2022-05-13 08:42:36 (5.58 MB/s) - ‘arywiki-latest-pages-articles.xml.bz2’ saved [5896037/5896037]\n",
            "\n"
          ]
        }
      ]
    },
    {
      "cell_type": "code",
      "source": [
        "!pip install wikiextractor"
      ],
      "metadata": {
        "colab": {
          "base_uri": "https://localhost:8080/"
        },
        "id": "dOwHt1ew2JwF",
        "outputId": "28c84515-d7c0-4c4c-814c-63b301c8d1d1"
      },
      "execution_count": 2,
      "outputs": [
        {
          "output_type": "stream",
          "name": "stdout",
          "text": [
            "Collecting wikiextractor\n",
            "  Downloading wikiextractor-3.0.6-py3-none-any.whl (46 kB)\n",
            "\u001b[?25l\r\u001b[K     |███████                         | 10 kB 26.0 MB/s eta 0:00:01\r\u001b[K     |██████████████▏                 | 20 kB 31.3 MB/s eta 0:00:01\r\u001b[K     |█████████████████████▏          | 30 kB 34.8 MB/s eta 0:00:01\r\u001b[K     |████████████████████████████▎   | 40 kB 37.4 MB/s eta 0:00:01\r\u001b[K     |████████████████████████████████| 46 kB 4.9 MB/s \n",
            "\u001b[?25hInstalling collected packages: wikiextractor\n",
            "Successfully installed wikiextractor-3.0.6\n"
          ]
        }
      ]
    },
    {
      "cell_type": "code",
      "source": [
        "!python3 -m wikiextractor.WikiExtractor  arywiki-latest-pages-articles.xml.bz2 --processes 8 -q -o - \\\n",
        "| sed \"/^\\s*\\$/d\" \\\n",
        "| grep -v \"^<doc id=\" \\\n",
        "| grep -v \"</doc>\\$\" \\\n",
        "> arywiki-latest-pages-articles.txt"
      ],
      "metadata": {
        "id": "Qe7JMe-c1qZY"
      },
      "execution_count": 6,
      "outputs": []
    },
    {
      "cell_type": "code",
      "source": [
        "!wc -l /content/arywiki-latest-pages-articles.txt\n",
        "!shuf -n 10 /content/arywiki-latest-pages-articles.txt"
      ],
      "metadata": {
        "id": "YIVg9Tfqlrxk",
        "outputId": "4e60507b-9a11-4b10-959b-fe65a74377d4",
        "colab": {
          "base_uri": "https://localhost:8080/"
        }
      },
      "execution_count": 8,
      "outputs": [
        {
          "output_type": "stream",
          "name": "stdout",
          "text": [
            "35977 /content/arywiki-latest-pages-articles.txt\n",
            "حضاعش شتنبير\n",
            "عبد الله شكايري أكاديمي ؤ باحت مغريبي ؤ ؤستاد موساعيد ف جامعة لأخوين ف إيفران. شكايري متخصص ف لّانڭويستيك د لعربية، ؤ عندو بزاف د لأبحات لمنشورة ف لّانڭويستيك نّضرية، ؤ كتيساب لعربية كا لوغة أجنبية. ؤ هوّا مستشار دولي ف صّيناعة لموعجامية ب لعربية، ؤ لمصاوبة ديال دوزان پيداڭوجي ديال تدريس لعربية ؤ دّاريجة.\n",
            "لّوغات.\n",
            "نتيخابات رياسية لفرانصاوية د 2017، هي نتيخابات رياسية لحضاش د لجمهورية لفرانصاوية لخامسة ؤ لعاشرة ب لقتيراع لعام، باش يتختار رايس د لجمهورية ل ويلاية د خمس سنين.\n",
            "كلوروفيل\n",
            "أعمال.\n",
            "دّيسيميتر (ب نّݣليزية لميريكانية decimeter) هيّا عبرة د طّول لي كاتساوي ميترو ؤلا 10 سنتيميتر. كيتّرمز ليها ب dm ف سّيستيم لميتري. كلمة \"ديسيميتر\" مركبة من ديسي- لي كاتعني ، ؤ ميتر ؤلا ميترو. دّيسيميتر من بين لعبرات د طّول لي ماكيتخدّموش بزاف.\n",
            "تمنطاعش دوجانبر\n",
            "تولد محمد بوزوبع ف فاس، و كبر ف عائلة مولوعة ب لموسيقا، كتيرشي عيساوة و لملحون، اللي عجبوه تا هو. قرا لموسيقا ف لمعهد د دار اعديل، و موراها دخل لجوق، و بدا تيشارك معاه ف التسجيلات و لحفلات. غنّا لحاج محمد بوزوبع كتر من 170 أغنية و قصيدة منها اللي معروفة تال دابا بحال \"خدّوج\"، \"الدمليج\"، و \"محمد صاحب الشفاعة\".\n",
            "موگريص\n"
          ]
        }
      ]
    }
  ]
}