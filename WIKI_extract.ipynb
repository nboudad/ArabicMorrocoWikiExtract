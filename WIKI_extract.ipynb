{
  "nbformat": 4,
  "nbformat_minor": 0,
  "metadata": {
    "colab": {
      "name": "WIKI extract",
      "provenance": [],
      "collapsed_sections": [],
      "authorship_tag": "ABX9TyMoZQaeiMtLXoSf0YvduVO4",
      "include_colab_link": true
    },
    "kernelspec": {
      "name": "python3",
      "display_name": "Python 3"
    },
    "language_info": {
      "name": "python"
    }
  },
  "cells": [
    {
      "cell_type": "markdown",
      "metadata": {
        "id": "view-in-github",
        "colab_type": "text"
      },
      "source": [
        "<a href=\"https://colab.research.google.com/github/nboudad/ArabicMorrocoWikiExtract/blob/main/WIKI_extract.ipynb\" target=\"_parent\"><img src=\"https://colab.research.google.com/assets/colab-badge.svg\" alt=\"Open In Colab\"/></a>"
      ]
    },
    {
      "cell_type": "code",
      "source": [
        "!wget -c https://dumps.wikimedia.org/arywiki/latest/arywiki-latest-pages-articles.xml.bz2"
      ],
      "metadata": {
        "colab": {
          "base_uri": "https://localhost:8080/"
        },
        "id": "GU_rWPys1Q4f",
        "outputId": "d2a09e0e-a70f-4159-c70a-1d264eef988f"
      },
      "execution_count": 2,
      "outputs": [
        {
          "output_type": "stream",
          "name": "stdout",
          "text": [
            "--2022-04-07 13:57:10--  https://dumps.wikimedia.org/arywiki/latest/arywiki-latest-pages-articles.xml.bz2\n",
            "Resolving dumps.wikimedia.org (dumps.wikimedia.org)... 208.80.154.7, 2620:0:861:1:208:80:154:7\n",
            "Connecting to dumps.wikimedia.org (dumps.wikimedia.org)|208.80.154.7|:443... connected.\n",
            "HTTP request sent, awaiting response... 200 OK\n",
            "Length: 5621213 (5.4M) [application/octet-stream]\n",
            "Saving to: ‘arywiki-latest-pages-articles.xml.bz2’\n",
            "\n",
            "arywiki-latest-page 100%[===================>]   5.36M  2.98MB/s    in 1.8s    \n",
            "\n",
            "2022-04-07 13:57:13 (2.98 MB/s) - ‘arywiki-latest-pages-articles.xml.bz2’ saved [5621213/5621213]\n",
            "\n"
          ]
        }
      ]
    },
    {
      "cell_type": "code",
      "source": [
        "!pip install wikiextractor"
      ],
      "metadata": {
        "colab": {
          "base_uri": "https://localhost:8080/"
        },
        "id": "dOwHt1ew2JwF",
        "outputId": "fa1b227a-1ad3-4550-ea69-0f51dd26e55c"
      },
      "execution_count": 3,
      "outputs": [
        {
          "output_type": "stream",
          "name": "stdout",
          "text": [
            "Collecting wikiextractor\n",
            "  Downloading wikiextractor-3.0.6-py3-none-any.whl (46 kB)\n",
            "\u001b[?25l\r\u001b[K     |███████                         | 10 kB 20.4 MB/s eta 0:00:01\r\u001b[K     |██████████████▏                 | 20 kB 14.5 MB/s eta 0:00:01\r\u001b[K     |█████████████████████▏          | 30 kB 9.5 MB/s eta 0:00:01\r\u001b[K     |████████████████████████████▎   | 40 kB 3.8 MB/s eta 0:00:01\r\u001b[K     |████████████████████████████████| 46 kB 2.0 MB/s \n",
            "\u001b[?25hInstalling collected packages: wikiextractor\n",
            "Successfully installed wikiextractor-3.0.6\n"
          ]
        }
      ]
    },
    {
      "cell_type": "code",
      "source": [
        "!python3 -m wikiextractor.WikiExtractor  arywiki-latest-pages-articles.xml.bz2 --processes 8 -q -o - \\\n",
        "| sed \"/^\\s*\\$/d\" \\\n",
        "| grep -v \"^<doc id=\" \\\n",
        "| grep -v \"</doc>\\$\" \\\n",
        "> arywiki-latest-pages-articles.txt"
      ],
      "metadata": {
        "id": "Qe7JMe-c1qZY"
      },
      "execution_count": 4,
      "outputs": []
    },
    {
      "cell_type": "code",
      "source": [
        "!pip install -U blingfire"
      ],
      "metadata": {
        "colab": {
          "base_uri": "https://localhost:8080/"
        },
        "id": "iEP328CM5VGg",
        "outputId": "a564f8c4-6021-44f2-8b41-a86adf6c0180"
      },
      "execution_count": 5,
      "outputs": [
        {
          "output_type": "stream",
          "name": "stdout",
          "text": [
            "Collecting blingfire\n",
            "  Downloading blingfire-0.1.8-py3-none-any.whl (42.1 MB)\n",
            "\u001b[K     |████████████████████████████████| 42.1 MB 2.3 MB/s \n",
            "\u001b[?25hInstalling collected packages: blingfire\n",
            "Successfully installed blingfire-0.1.8\n"
          ]
        }
      ]
    },
    {
      "cell_type": "code",
      "source": [
        "from pathlib import Path\n",
        "\n",
        "from blingfire import text_to_sentences\n",
        "\n",
        "\n",
        "wiki_dump_file_in = Path(\"arywiki-latest-pages-articles.txt\")\n",
        "wiki_dump_file_out = wiki_dump_file_in.parent / \\\n",
        "        f'{wiki_dump_file_in.stem}_preprocessed{wiki_dump_file_in.suffix}'\n",
        "\n",
        "print(f'Pre-processing {wiki_dump_file_in} to {wiki_dump_file_out}...')\n",
        "with open(wiki_dump_file_out, 'w', encoding='utf-8') as out_f:\n",
        "        with open(wiki_dump_file_in, 'r', encoding='utf-8') as in_f:\n",
        "            for line in in_f:\n",
        "                sentences = text_to_sentences(line)\n",
        "                sentences = sentences.replace('،','\\n').replace(',','\\n')\n",
        "                out_f.write(sentences + '\\n')\n",
        "print(f'Successfully pre-processed {wiki_dump_file_in} to {wiki_dump_file_out}...')\n"
      ],
      "metadata": {
        "colab": {
          "base_uri": "https://localhost:8080/"
        },
        "id": "xcNyLIui4tgn",
        "outputId": "aa394a03-c51d-47ec-c0a1-ec398a2848ca"
      },
      "execution_count": 9,
      "outputs": [
        {
          "output_type": "stream",
          "name": "stdout",
          "text": [
            "Pre-processing arywiki-latest-pages-articles.txt to arywiki-latest-pages-articles_preprocessed.txt...\n",
            "Successfully pre-processed arywiki-latest-pages-articles.txt to arywiki-latest-pages-articles_preprocessed.txt...\n"
          ]
        }
      ]
    }
  ]
}